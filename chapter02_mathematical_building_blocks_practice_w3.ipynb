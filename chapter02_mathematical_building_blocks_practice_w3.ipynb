{
  "cells": [
    {
      "cell_type": "markdown",
      "metadata": {
        "id": "view-in-github",
        "colab_type": "text"
      },
      "source": [
        "<a href=\"https://colab.research.google.com/github/RealTaeYoungKang/CAU-AI4DeepLearning/blob/main/chapter02_mathematical_building_blocks_practice_w3.ipynb\" target=\"_parent\"><img src=\"https://colab.research.google.com/assets/colab-badge.svg\" alt=\"Open In Colab\"/></a>"
      ]
    },
    {
      "cell_type": "markdown",
      "metadata": {
        "id": "PTuLpFEyI0f_"
      },
      "source": [
        "This is a companion notebook for the book [Deep Learning with Python, Second Edition](https://www.manning.com/books/deep-learning-with-python-second-edition?a_aid=keras&a_bid=76564dff). For readability, it only contains runnable code blocks and section titles, and omits everything else in the book: text paragraphs, figures, and pseudocode.\n",
        "\n",
        "**If you want to be able to follow what's going on, I recommend reading the notebook side by side with your copy of the book.**\n",
        "\n",
        "This notebook was generated for TensorFlow 2.6."
      ]
    },
    {
      "cell_type": "markdown",
      "metadata": {
        "id": "Fhesp4wXI0gL"
      },
      "source": [
        "# The mathematical building blocks of neural networks"
      ]
    },
    {
      "cell_type": "markdown",
      "metadata": {
        "id": "0Pa7sOnbI0gN"
      },
      "source": [
        "## A first look at a neural network"
      ]
    },
    {
      "cell_type": "markdown",
      "metadata": {
        "id": "stT6bGzcI0gP"
      },
      "source": [
        "**Loading the MNIST dataset in Keras**"
      ]
    },
    {
      "cell_type": "code",
      "execution_count": 31,
      "metadata": {
        "id": "z6HVYp9zI0gQ",
        "colab": {
          "base_uri": "https://localhost:8080/"
        },
        "outputId": "648e74ed-f50a-401f-9e96-2bd056c6aa5c"
      },
      "outputs": [
        {
          "output_type": "stream",
          "name": "stdout",
          "text": [
            "Downloading data from https://storage.googleapis.com/tensorflow/tf-keras-datasets/mnist.npz\n",
            "11490434/11490434 [==============================] - 1s 0us/step\n"
          ]
        }
      ],
      "source": [
        "from tensorflow.keras.datasets import mnist\n",
        "(train_images, train_labels), (test_images, test_labels) = mnist.load_data()"
      ]
    },
    {
      "cell_type": "code",
      "execution_count": null,
      "metadata": {
        "id": "8NE1LBqQI0gX"
      },
      "outputs": [],
      "source": [
        "train_images.shape"
      ]
    },
    {
      "cell_type": "code",
      "execution_count": null,
      "metadata": {
        "id": "FUl6rdPhI0gY"
      },
      "outputs": [],
      "source": [
        "len(train_labels)"
      ]
    },
    {
      "cell_type": "code",
      "execution_count": null,
      "metadata": {
        "id": "QEMtmL0RI0gZ"
      },
      "outputs": [],
      "source": [
        "train_labels"
      ]
    },
    {
      "cell_type": "code",
      "execution_count": null,
      "metadata": {
        "id": "V6veEnsYI0gb"
      },
      "outputs": [],
      "source": [
        "test_images.shape"
      ]
    },
    {
      "cell_type": "code",
      "execution_count": null,
      "metadata": {
        "id": "fgpoddCWI0gc"
      },
      "outputs": [],
      "source": [
        "len(test_labels)"
      ]
    },
    {
      "cell_type": "code",
      "execution_count": null,
      "metadata": {
        "id": "hSxP053zI0gc"
      },
      "outputs": [],
      "source": [
        "test_labels"
      ]
    },
    {
      "cell_type": "markdown",
      "metadata": {
        "id": "TUmpRBFaI0ge"
      },
      "source": [
        "**The network architecture**"
      ]
    },
    {
      "cell_type": "code",
      "execution_count": 73,
      "metadata": {
        "id": "GnNjdgOAI0gf"
      },
      "outputs": [],
      "source": [
        "from tensorflow import keras\n",
        "from tensorflow.keras import layers\n",
        "model = keras.Sequential([\n",
        "    layers.Dense(512, activation=\"relu\"),\n",
        "    layers.Dense(10, activation=\"softmax\")\n",
        "])"
      ]
    },
    {
      "cell_type": "markdown",
      "metadata": {
        "id": "L8bbrunjI0gg"
      },
      "source": [
        "**The compilation step**"
      ]
    },
    {
      "cell_type": "code",
      "execution_count": null,
      "metadata": {
        "id": "uJvvawFTI0gg"
      },
      "outputs": [],
      "source": [
        "model.compile(optimizer=\"rmsprop\",\n",
        "              loss=\"sparse_categorical_crossentropy\",\n",
        "              metrics=[\"accuracy\"])"
      ]
    },
    {
      "cell_type": "markdown",
      "metadata": {
        "id": "k3ohTtwSI0gh"
      },
      "source": [
        "**Preparing the image data**"
      ]
    },
    {
      "cell_type": "code",
      "execution_count": null,
      "metadata": {
        "id": "nalzRQ5yI0gi"
      },
      "outputs": [],
      "source": [
        "train_images = train_images.reshape((60000, 28 * 28))\n",
        "train_images = train_images.astype(\"float32\") / 255\n",
        "test_images = test_images.reshape((10000, 28 * 28))\n",
        "test_images = test_images.astype(\"float32\") / 255"
      ]
    },
    {
      "cell_type": "markdown",
      "metadata": {
        "id": "FUL2IapJI0gj"
      },
      "source": [
        "**\"Fitting\" the model**"
      ]
    },
    {
      "cell_type": "code",
      "execution_count": null,
      "metadata": {
        "id": "Z4qAPIL1I0gj"
      },
      "outputs": [],
      "source": [
        "model.fit(train_images, train_labels, epochs=5, batch_size=128)"
      ]
    },
    {
      "cell_type": "markdown",
      "metadata": {
        "id": "y0NvFRrPI0gk"
      },
      "source": [
        "**Using the model to make predictions**"
      ]
    },
    {
      "cell_type": "code",
      "execution_count": null,
      "metadata": {
        "id": "1io4Cw58I0gl"
      },
      "outputs": [],
      "source": [
        "test_digits = test_images[0:10]\n",
        "predictions = model.predict(test_digits)\n",
        "predictions[0]"
      ]
    },
    {
      "cell_type": "code",
      "execution_count": null,
      "metadata": {
        "id": "yPeHYJjHI0gm"
      },
      "outputs": [],
      "source": [
        "predictions[0].argmax()"
      ]
    },
    {
      "cell_type": "code",
      "execution_count": null,
      "metadata": {
        "id": "O9KZBhVeI0gm"
      },
      "outputs": [],
      "source": [
        "predictions[0][7]"
      ]
    },
    {
      "cell_type": "code",
      "execution_count": null,
      "metadata": {
        "id": "QjbqKRmYI0gn"
      },
      "outputs": [],
      "source": [
        "test_labels[0]"
      ]
    },
    {
      "cell_type": "markdown",
      "metadata": {
        "id": "qrir-oZzI0go"
      },
      "source": [
        "**Evaluating the model on new data**"
      ]
    },
    {
      "cell_type": "code",
      "execution_count": null,
      "metadata": {
        "id": "aWYh4qemI0gp"
      },
      "outputs": [],
      "source": [
        "test_loss, test_acc = model.evaluate(test_images, test_labels)\n",
        "print(f\"test_acc: {test_acc}\")"
      ]
    },
    {
      "cell_type": "markdown",
      "metadata": {
        "id": "XEhKm_UaI0gq"
      },
      "source": [
        "## Data representations for neural networks"
      ]
    },
    {
      "cell_type": "markdown",
      "metadata": {
        "id": "mWVUfhwTI0gq"
      },
      "source": [
        "### Scalars (rank-0 tensors)"
      ]
    },
    {
      "cell_type": "code",
      "execution_count": null,
      "metadata": {
        "id": "ocK6tzeMI0gr"
      },
      "outputs": [],
      "source": [
        "import numpy as np\n",
        "x = np.array(12)\n",
        "x"
      ]
    },
    {
      "cell_type": "code",
      "execution_count": null,
      "metadata": {
        "id": "KteBNxYLI0gs"
      },
      "outputs": [],
      "source": [
        "x.ndim"
      ]
    },
    {
      "cell_type": "markdown",
      "metadata": {
        "id": "8M0fX-HYI0gs"
      },
      "source": [
        "### Vectors (rank-1 tensors)"
      ]
    },
    {
      "cell_type": "code",
      "execution_count": null,
      "metadata": {
        "id": "tEf0MkDVI0gt"
      },
      "outputs": [],
      "source": [
        "x = np.array([12, 3, 6, 14, 7])\n",
        "x"
      ]
    },
    {
      "cell_type": "code",
      "execution_count": null,
      "metadata": {
        "id": "-MM7ZjaHI0gu"
      },
      "outputs": [],
      "source": [
        "x.ndim"
      ]
    },
    {
      "cell_type": "markdown",
      "metadata": {
        "id": "kBsKRhdlI0gv"
      },
      "source": [
        "### Matrices (rank-2 tensors)"
      ]
    },
    {
      "cell_type": "code",
      "execution_count": null,
      "metadata": {
        "id": "sZdCJBMSI0gx"
      },
      "outputs": [],
      "source": [
        "x = np.array([[5, 78, 2, 34, 0],\n",
        "              [6, 79, 3, 35, 1],\n",
        "              [7, 80, 4, 36, 2]])\n",
        "x.ndim"
      ]
    },
    {
      "cell_type": "markdown",
      "metadata": {
        "id": "1T8zQqSKI0gz"
      },
      "source": [
        "### Rank-3 and higher-rank tensors"
      ]
    },
    {
      "cell_type": "code",
      "execution_count": null,
      "metadata": {
        "id": "HUgIqoRpI0g0"
      },
      "outputs": [],
      "source": [
        "x = np.array([[[5, 78, 2, 34, 0],\n",
        "               [6, 79, 3, 35, 1],\n",
        "               [7, 80, 4, 36, 2]],\n",
        "              [[5, 78, 2, 34, 0],\n",
        "               [6, 79, 3, 35, 1],\n",
        "               [7, 80, 4, 36, 2]],\n",
        "              [[5, 78, 2, 34, 0],\n",
        "               [6, 79, 3, 35, 1],\n",
        "               [7, 80, 4, 36, 2]]])\n",
        "x.ndim"
      ]
    },
    {
      "cell_type": "markdown",
      "metadata": {
        "id": "q7o8J8sTI0g2"
      },
      "source": [
        "### Key attributes"
      ]
    },
    {
      "cell_type": "code",
      "execution_count": null,
      "metadata": {
        "id": "GgY_HH2AI0g3"
      },
      "outputs": [],
      "source": [
        "from tensorflow.keras.datasets import mnist\n",
        "(train_images, train_labels), (test_images, test_labels) = mnist.load_data()"
      ]
    },
    {
      "cell_type": "code",
      "execution_count": null,
      "metadata": {
        "id": "h308rLbKI0g5"
      },
      "outputs": [],
      "source": [
        "train_images.ndim"
      ]
    },
    {
      "cell_type": "code",
      "execution_count": null,
      "metadata": {
        "id": "aLiudXOxI0g7"
      },
      "outputs": [],
      "source": [
        "train_images.shape"
      ]
    },
    {
      "cell_type": "code",
      "execution_count": null,
      "metadata": {
        "id": "6dkYXhUFI0g-"
      },
      "outputs": [],
      "source": [
        "train_images.dtype"
      ]
    },
    {
      "cell_type": "markdown",
      "metadata": {
        "id": "4a53IGiAI0g_"
      },
      "source": [
        "**Displaying the fourth digit**"
      ]
    },
    {
      "cell_type": "code",
      "execution_count": null,
      "metadata": {
        "id": "S4KeH3GmI0hA"
      },
      "outputs": [],
      "source": [
        "import matplotlib.pyplot as plt\n",
        "digit = train_images[4]\n",
        "plt.imshow(digit, cmap=plt.cm.binary)\n",
        "plt.show()"
      ]
    },
    {
      "cell_type": "code",
      "execution_count": null,
      "metadata": {
        "id": "CKjSHexUI0hB"
      },
      "outputs": [],
      "source": [
        "train_labels[4]"
      ]
    },
    {
      "cell_type": "markdown",
      "metadata": {
        "id": "gB6QwseNI0hB"
      },
      "source": [
        "### Manipulating tensors in NumPy"
      ]
    },
    {
      "cell_type": "code",
      "execution_count": null,
      "metadata": {
        "id": "zCd9-sFPI0hB"
      },
      "outputs": [],
      "source": [
        "my_slice = train_images[10:100]\n",
        "my_slice.shape"
      ]
    },
    {
      "cell_type": "code",
      "execution_count": null,
      "metadata": {
        "id": "_C8Tmg4-I0hB"
      },
      "outputs": [],
      "source": [
        "my_slice = train_images[10:100, :, :]\n",
        "my_slice.shape"
      ]
    },
    {
      "cell_type": "code",
      "execution_count": null,
      "metadata": {
        "id": "EoZcT9OuI0hC"
      },
      "outputs": [],
      "source": [
        "my_slice = train_images[10:100, 0:28, 0:28]\n",
        "my_slice.shape"
      ]
    },
    {
      "cell_type": "code",
      "execution_count": null,
      "metadata": {
        "id": "qBLuiyS1I0hC"
      },
      "outputs": [],
      "source": [
        "my_slice = train_images[:, 14:, 14:]"
      ]
    },
    {
      "cell_type": "code",
      "execution_count": null,
      "metadata": {
        "id": "G78OenyqI0hD"
      },
      "outputs": [],
      "source": [
        "my_slice = train_images[:, 7:-7, 7:-7]"
      ]
    },
    {
      "cell_type": "markdown",
      "metadata": {
        "id": "ItO5hrpsI0hD"
      },
      "source": [
        "### The notion of data batches"
      ]
    },
    {
      "cell_type": "code",
      "execution_count": null,
      "metadata": {
        "id": "MCxr2OZoI0hE"
      },
      "outputs": [],
      "source": [
        "batch = train_images[:128]"
      ]
    },
    {
      "cell_type": "code",
      "execution_count": null,
      "metadata": {
        "id": "XXdKQPMKI0hF"
      },
      "outputs": [],
      "source": [
        "batch = train_images[128:256]"
      ]
    },
    {
      "cell_type": "code",
      "execution_count": null,
      "metadata": {
        "id": "mSO_PlLkI0hF"
      },
      "outputs": [],
      "source": [
        "n = 3\n",
        "batch = train_images[128 * n:128 * (n + 1)]"
      ]
    },
    {
      "cell_type": "markdown",
      "metadata": {
        "id": "AilTDmt3I0hJ"
      },
      "source": [
        "### Real-world examples of data tensors"
      ]
    },
    {
      "cell_type": "markdown",
      "metadata": {
        "id": "h0yQoYkCI0hJ"
      },
      "source": [
        "### Vector data"
      ]
    },
    {
      "cell_type": "markdown",
      "metadata": {
        "id": "xrNdVE7jI0hJ"
      },
      "source": [
        "### Timeseries data or sequence data"
      ]
    },
    {
      "cell_type": "markdown",
      "metadata": {
        "id": "fxKV9ox8I0hK"
      },
      "source": [
        "### Image data"
      ]
    },
    {
      "cell_type": "markdown",
      "metadata": {
        "id": "L4nORcfsI0hK"
      },
      "source": [
        "### Video data"
      ]
    },
    {
      "cell_type": "markdown",
      "metadata": {
        "id": "t2VmBuBaI0hK"
      },
      "source": [
        "## The gears of neural networks: tensor operations"
      ]
    },
    {
      "cell_type": "markdown",
      "metadata": {
        "id": "a3dRgrPfI0hL"
      },
      "source": [
        "### Element-wise operations"
      ]
    },
    {
      "cell_type": "code",
      "execution_count": 6,
      "metadata": {
        "id": "Q-vNSzB7I0hL"
      },
      "outputs": [],
      "source": [
        "def naive_relu(x):\n",
        "    assert len(x.shape) == 2\n",
        "    x = x.copy() # 원본 리스트에 영향을 미치지 않는다\n",
        "    for i in range(x.shape[0]):\n",
        "        for j in range(x.shape[1]):\n",
        "            x[i, j] = max(x[i, j], 0)\n",
        "    return x"
      ]
    },
    {
      "cell_type": "code",
      "source": [
        "import numpy as np\n",
        "\n",
        "aa = np.array([[1, 2, 3, -1], [1, -1, -1, 0]])"
      ],
      "metadata": {
        "id": "OYn5wCL-JNgb"
      },
      "execution_count": 7,
      "outputs": []
    },
    {
      "cell_type": "code",
      "source": [
        "aa"
      ],
      "metadata": {
        "colab": {
          "base_uri": "https://localhost:8080/"
        },
        "id": "1NyKoEo5J5zG",
        "outputId": "7b35c744-4c11-4a22-c2c3-a2114255de75"
      },
      "execution_count": 8,
      "outputs": [
        {
          "output_type": "execute_result",
          "data": {
            "text/plain": [
              "array([[ 1,  2,  3, -1],\n",
              "       [ 1, -1, -1,  0]])"
            ]
          },
          "metadata": {},
          "execution_count": 8
        }
      ]
    },
    {
      "cell_type": "code",
      "execution_count": 9,
      "metadata": {
        "id": "gnD-_g-8I0hM"
      },
      "outputs": [],
      "source": [
        "def naive_add(x, y):\n",
        "    assert len(x.shape) == 2\n",
        "    assert x.shape == y.shape\n",
        "    x = x.copy()\n",
        "    for i in range(x.shape[0]):\n",
        "        for j in range(x.shape[1]):\n",
        "            x[i, j] += y[i, j]\n",
        "    return x"
      ]
    },
    {
      "cell_type": "code",
      "execution_count": 10,
      "metadata": {
        "id": "epI4tC20I0hN",
        "colab": {
          "base_uri": "https://localhost:8080/"
        },
        "outputId": "1623fef6-1cc1-4b3d-c11a-941aabf1e0db"
      },
      "outputs": [
        {
          "output_type": "stream",
          "name": "stdout",
          "text": [
            "Took: 0.01 s\n"
          ]
        }
      ],
      "source": [
        "import time\n",
        "\n",
        "x = np.random.random((20, 100))\n",
        "y = np.random.random((20, 100))\n",
        "\n",
        "t0 = time.time()\n",
        "for _ in range(1000):\n",
        "    z = x + y #벡터를 그냥 더해버려서 빨라짐\n",
        "    z = np.maximum(z, 0.)\n",
        "print(\"Took: {0:.2f} s\".format(time.time() - t0))"
      ]
    },
    {
      "cell_type": "code",
      "execution_count": 11,
      "metadata": {
        "id": "qBVaU_5fI0hN",
        "colab": {
          "base_uri": "https://localhost:8080/"
        },
        "outputId": "45b2cb42-e1b3-4d6f-d6b7-3ced731f2e03"
      },
      "outputs": [
        {
          "output_type": "stream",
          "name": "stdout",
          "text": [
            "Took: 1.73 s\n"
          ]
        }
      ],
      "source": [
        "t0 = time.time()\n",
        "for _ in range(1000):\n",
        "    z = naive_add(x, y) # 정의된 함수에 들어간다음, 벡터값을 더해주기 때문에 시간이 좀 더 오래 걸림\n",
        "    z = naive_relu(z)\n",
        "print(\"Took: {0:.2f} s\".format(time.time() - t0))"
      ]
    },
    {
      "cell_type": "markdown",
      "metadata": {
        "id": "1wPQEKVAI0hO"
      },
      "source": [
        "### Broadcasting"
      ]
    },
    {
      "cell_type": "code",
      "execution_count": 12,
      "metadata": {
        "id": "vc5qwDFTI0hO"
      },
      "outputs": [],
      "source": [
        "import numpy as np\n",
        "X = np.random.random((32, 10))\n",
        "y = np.random.random((10,))"
      ]
    },
    {
      "cell_type": "code",
      "source": [
        "x = np.array([1,2,3,4,5])\n",
        "y = np.array([[1,1,1,1,1],[1,1,1,1,1]])"
      ],
      "metadata": {
        "id": "cNXWvHfpMHTa"
      },
      "execution_count": 14,
      "outputs": []
    },
    {
      "cell_type": "code",
      "source": [
        "x.shape"
      ],
      "metadata": {
        "colab": {
          "base_uri": "https://localhost:8080/"
        },
        "id": "xJuvikH8MUIi",
        "outputId": "8acf0c7b-4ea4-43b7-8e84-758d21e252b6"
      },
      "execution_count": 15,
      "outputs": [
        {
          "output_type": "execute_result",
          "data": {
            "text/plain": [
              "(5,)"
            ]
          },
          "metadata": {},
          "execution_count": 15
        }
      ]
    },
    {
      "cell_type": "code",
      "source": [
        "y.shape"
      ],
      "metadata": {
        "colab": {
          "base_uri": "https://localhost:8080/"
        },
        "id": "dHl9sGdTMVgS",
        "outputId": "add1fff9-26d6-4aef-bd2b-1907d33d1ab1"
      },
      "execution_count": 16,
      "outputs": [
        {
          "output_type": "execute_result",
          "data": {
            "text/plain": [
              "(2, 5)"
            ]
          },
          "metadata": {},
          "execution_count": 16
        }
      ]
    },
    {
      "cell_type": "code",
      "source": [
        "x + y"
      ],
      "metadata": {
        "colab": {
          "base_uri": "https://localhost:8080/"
        },
        "id": "QEeEBc9dMYo0",
        "outputId": "d94c2c4b-fd63-410d-ceb3-be63d6678360"
      },
      "execution_count": 17,
      "outputs": [
        {
          "output_type": "execute_result",
          "data": {
            "text/plain": [
              "array([[2, 3, 4, 5, 6],\n",
              "       [2, 3, 4, 5, 6]])"
            ]
          },
          "metadata": {},
          "execution_count": 17
        }
      ]
    },
    {
      "cell_type": "code",
      "source": [
        "a = np.array([1,3,5,7,9])\n",
        "b = np.array([[1,1,1,1,1], [2,2,2,2,2], [3,3,3,3,3]])\n",
        "a + b"
      ],
      "metadata": {
        "colab": {
          "base_uri": "https://localhost:8080/"
        },
        "id": "wo-3xhdbNvCQ",
        "outputId": "47062b90-ce0f-48ca-9500-6c4538c7cc88"
      },
      "execution_count": 38,
      "outputs": [
        {
          "output_type": "execute_result",
          "data": {
            "text/plain": [
              "array([[ 2,  4,  6,  8, 10],\n",
              "       [ 3,  5,  7,  9, 11],\n",
              "       [ 4,  6,  8, 10, 12]])"
            ]
          },
          "metadata": {},
          "execution_count": 38
        }
      ]
    },
    {
      "cell_type": "code",
      "execution_count": 18,
      "metadata": {
        "id": "kHCHSPQrI0hP"
      },
      "outputs": [],
      "source": [
        "y = np.expand_dims(y, axis=0)"
      ]
    },
    {
      "cell_type": "code",
      "execution_count": 19,
      "metadata": {
        "id": "zizEc-cKI0hP"
      },
      "outputs": [],
      "source": [
        "Y = np.concatenate([y] * 32, axis=0)"
      ]
    },
    {
      "cell_type": "code",
      "execution_count": 20,
      "metadata": {
        "id": "orNMW3ZnI0hQ"
      },
      "outputs": [],
      "source": [
        "def naive_add_matrix_and_vector(x, y):\n",
        "    assert len(x.shape) == 2\n",
        "    assert len(y.shape) == 1\n",
        "    assert x.shape[1] == y.shape[0]\n",
        "    x = x.copy()\n",
        "    for i in range(x.shape[0]):\n",
        "        for j in range(x.shape[1]):\n",
        "            x[i, j] += y[j]\n",
        "    return x"
      ]
    },
    {
      "cell_type": "code",
      "execution_count": 21,
      "metadata": {
        "id": "C66k6Fv7I0hR"
      },
      "outputs": [],
      "source": [
        "import numpy as np\n",
        "x = np.random.random((64, 3, 32, 10))\n",
        "y = np.random.random((32, 10))\n",
        "z = np.maximum(x, y)"
      ]
    },
    {
      "cell_type": "markdown",
      "metadata": {
        "id": "YD2yW-CjI0hS"
      },
      "source": [
        "### Tensor product"
      ]
    },
    {
      "cell_type": "code",
      "execution_count": 22,
      "metadata": {
        "id": "p9dW2_nEI0hS"
      },
      "outputs": [],
      "source": [
        "x = np.random.random((32,))\n",
        "y = np.random.random((32,))\n",
        "z = np.dot(x, y)"
      ]
    },
    {
      "cell_type": "code",
      "source": [
        "print(x, y, z)"
      ],
      "metadata": {
        "colab": {
          "base_uri": "https://localhost:8080/"
        },
        "id": "XfTtxuOfPbM5",
        "outputId": "b0fac759-aac7-45ba-834a-a9bd1fd5875d"
      },
      "execution_count": 39,
      "outputs": [
        {
          "output_type": "stream",
          "name": "stdout",
          "text": [
            "[[0.]\n",
            " [1.]\n",
            " [2.]\n",
            " [3.]\n",
            " [4.]\n",
            " [5.]] [0.4838554  0.42519959 0.14154154 0.40411423 0.87968121 0.69493157\n",
            " 0.8628214  0.62949901 0.1320912  0.31374721 0.29386636 0.0033318\n",
            " 0.88382601 0.71513008 0.87990015 0.253461   0.09705869 0.37062266\n",
            " 0.86624332 0.70522962 0.40423714 0.61778254 0.71540841 0.90980243\n",
            " 0.31293472 0.41430472 0.98299368 0.48213162 0.87074648 0.40602908\n",
            " 0.20935942 0.47639317] 9.064663777320533\n"
          ]
        }
      ]
    },
    {
      "cell_type": "code",
      "execution_count": 23,
      "metadata": {
        "id": "HfakrWDhI0hT"
      },
      "outputs": [],
      "source": [
        "def naive_vector_dot(x, y):\n",
        "    assert len(x.shape) == 1\n",
        "    assert len(y.shape) == 1\n",
        "    assert x.shape[0] == y.shape[0]\n",
        "    z = 0.\n",
        "    for i in range(x.shape[0]):\n",
        "        z += x[i] * y[i]\n",
        "    return z"
      ]
    },
    {
      "cell_type": "code",
      "execution_count": 24,
      "metadata": {
        "id": "xG-dnyZbI0hT"
      },
      "outputs": [],
      "source": [
        "def naive_matrix_vector_dot(x, y):\n",
        "    assert len(x.shape) == 2\n",
        "    assert len(y.shape) == 1\n",
        "    assert x.shape[1] == y.shape[0]\n",
        "    z = np.zeros(x.shape[0])\n",
        "    for i in range(x.shape[0]):\n",
        "        for j in range(x.shape[1]):\n",
        "            z[i] += x[i, j] * y[j]\n",
        "    return z"
      ]
    },
    {
      "cell_type": "code",
      "execution_count": 25,
      "metadata": {
        "id": "e0vA4CDJI0hT"
      },
      "outputs": [],
      "source": [
        "def naive_matrix_vector_dot(x, y):\n",
        "    z = np.zeros(x.shape[0])\n",
        "    for i in range(x.shape[0]):\n",
        "        z[i] = naive_vector_dot(x[i, :], y)\n",
        "    return z"
      ]
    },
    {
      "cell_type": "code",
      "execution_count": 26,
      "metadata": {
        "id": "TgVKZt4hI0hU"
      },
      "outputs": [],
      "source": [
        "def naive_matrix_dot(x, y):\n",
        "    assert len(x.shape) == 2\n",
        "    assert len(y.shape) == 2\n",
        "    assert x.shape[1] == y.shape[0]\n",
        "    z = np.zeros((x.shape[0], y.shape[1]))\n",
        "    for i in range(x.shape[0]):\n",
        "        for j in range(y.shape[1]):\n",
        "            row_x = x[i, :]\n",
        "            column_y = y[:, j]\n",
        "            z[i, j] = naive_vector_dot(row_x, column_y)\n",
        "    return z"
      ]
    },
    {
      "cell_type": "markdown",
      "metadata": {
        "id": "NsTK-y0FI0hV"
      },
      "source": [
        "### Tensor reshaping"
      ]
    },
    {
      "cell_type": "code",
      "execution_count": 32,
      "metadata": {
        "id": "0Exfn-NbI0hV"
      },
      "outputs": [],
      "source": [
        "train_images = train_images.reshape((60000, 28 * 28))"
      ]
    },
    {
      "cell_type": "code",
      "source": [
        "train_images.shape"
      ],
      "metadata": {
        "colab": {
          "base_uri": "https://localhost:8080/"
        },
        "id": "5gt0dMc2NELr",
        "outputId": "2e9e0334-6f26-4d03-990d-28de2e965d42"
      },
      "execution_count": 37,
      "outputs": [
        {
          "output_type": "execute_result",
          "data": {
            "text/plain": [
              "(60000, 784)"
            ]
          },
          "metadata": {},
          "execution_count": 37
        }
      ]
    },
    {
      "cell_type": "code",
      "execution_count": 33,
      "metadata": {
        "id": "nX9JZ6v9I0hW",
        "colab": {
          "base_uri": "https://localhost:8080/"
        },
        "outputId": "5062340f-cc0b-4b08-d8fc-4d148ade1855"
      },
      "outputs": [
        {
          "output_type": "execute_result",
          "data": {
            "text/plain": [
              "(3, 2)"
            ]
          },
          "metadata": {},
          "execution_count": 33
        }
      ],
      "source": [
        "x = np.array([[0., 1.],\n",
        "             [2., 3.],\n",
        "             [4., 5.]])\n",
        "x.shape"
      ]
    },
    {
      "cell_type": "code",
      "execution_count": 34,
      "metadata": {
        "id": "G3kszdLTI0hX",
        "colab": {
          "base_uri": "https://localhost:8080/"
        },
        "outputId": "d770504e-ce3d-4867-c642-50b8987147d2"
      },
      "outputs": [
        {
          "output_type": "execute_result",
          "data": {
            "text/plain": [
              "array([[0.],\n",
              "       [1.],\n",
              "       [2.],\n",
              "       [3.],\n",
              "       [4.],\n",
              "       [5.]])"
            ]
          },
          "metadata": {},
          "execution_count": 34
        }
      ],
      "source": [
        "x = x.reshape((6, 1))\n",
        "x"
      ]
    },
    {
      "cell_type": "code",
      "execution_count": 30,
      "metadata": {
        "id": "2J8-ALz1I0hX",
        "colab": {
          "base_uri": "https://localhost:8080/"
        },
        "outputId": "977b0bef-0db0-41f6-a2a9-3bd62c2eee79"
      },
      "outputs": [
        {
          "output_type": "execute_result",
          "data": {
            "text/plain": [
              "(20, 300)"
            ]
          },
          "metadata": {},
          "execution_count": 30
        }
      ],
      "source": [
        "x = np.zeros((300, 20))\n",
        "x = np.transpose(x)\n",
        "x.shape"
      ]
    },
    {
      "cell_type": "markdown",
      "metadata": {
        "id": "fxAs2FuEI0hY"
      },
      "source": [
        "### Geometric interpretation of tensor operations"
      ]
    },
    {
      "cell_type": "markdown",
      "metadata": {
        "id": "H6steDw7I0hY"
      },
      "source": [
        "### A geometric interpretation of deep learning"
      ]
    },
    {
      "cell_type": "markdown",
      "metadata": {
        "id": "2gdtzSasI0hY"
      },
      "source": [
        "## The engine of neural networks: gradient-based optimization"
      ]
    },
    {
      "cell_type": "markdown",
      "metadata": {
        "id": "gzo3ZtmJI0hZ"
      },
      "source": [
        "### What's a derivative?"
      ]
    },
    {
      "cell_type": "markdown",
      "metadata": {
        "id": "Hi8K3X3MI0hZ"
      },
      "source": [
        "### Derivative of a tensor operation: the gradient"
      ]
    },
    {
      "cell_type": "markdown",
      "metadata": {
        "id": "F-LuvxjYI0ha"
      },
      "source": [
        "### Stochastic gradient descent"
      ]
    },
    {
      "cell_type": "markdown",
      "metadata": {
        "id": "TonwS6XJI0ha"
      },
      "source": [
        "### Chaining derivatives: The Backpropagation algorithm"
      ]
    },
    {
      "cell_type": "markdown",
      "metadata": {
        "id": "3AWZEaX1I0ha"
      },
      "source": [
        "#### The chain rule"
      ]
    },
    {
      "cell_type": "markdown",
      "metadata": {
        "id": "jyj3kVOKI0hb"
      },
      "source": [
        "#### Automatic differentiation with computation graphs"
      ]
    },
    {
      "cell_type": "markdown",
      "metadata": {
        "id": "xy2dUpnZI0hb"
      },
      "source": [
        "#### The gradient tape in TensorFlow"
      ]
    },
    {
      "cell_type": "code",
      "execution_count": 51,
      "metadata": {
        "id": "xnBEY_h2I0hc"
      },
      "outputs": [],
      "source": [
        "import tensorflow as tf\n",
        "x = tf.Variable(0.) # x의 variable 타입 설정 / 또한 실수로 만들어 주기 위해서 숫자. 사용\n",
        "with tf.GradientTape() as tape:\n",
        "    y = 2 * x + 3\n",
        "grad_of_y_wrt_x = tape.gradient(y, x)"
      ]
    },
    {
      "cell_type": "code",
      "source": [
        "x"
      ],
      "metadata": {
        "colab": {
          "base_uri": "https://localhost:8080/"
        },
        "id": "AdqXAc1HQ5yj",
        "outputId": "6039c013-f6db-441f-a7f6-ae050d7837c6"
      },
      "execution_count": 52,
      "outputs": [
        {
          "output_type": "execute_result",
          "data": {
            "text/plain": [
              "<tf.Variable 'Variable:0' shape=() dtype=float32, numpy=0.0>"
            ]
          },
          "metadata": {},
          "execution_count": 52
        }
      ]
    },
    {
      "cell_type": "code",
      "source": [
        "grad_of_y_wrt_x"
      ],
      "metadata": {
        "colab": {
          "base_uri": "https://localhost:8080/"
        },
        "id": "6e69dN-oQe0Y",
        "outputId": "dce71df1-31fe-4539-9d50-166112175555"
      },
      "execution_count": 53,
      "outputs": [
        {
          "output_type": "execute_result",
          "data": {
            "text/plain": [
              "<tf.Tensor: shape=(), dtype=float32, numpy=2.0>"
            ]
          },
          "metadata": {},
          "execution_count": 53
        }
      ]
    },
    {
      "cell_type": "code",
      "execution_count": 54,
      "metadata": {
        "id": "yz-hBjHkI0he"
      },
      "outputs": [],
      "source": [
        "x = tf.Variable(tf.random.uniform((2, 2)))\n",
        "with tf.GradientTape() as tape:\n",
        "    y = 2 * x + 3\n",
        "grad_of_y_wrt_x = tape.gradient(y, x)"
      ]
    },
    {
      "cell_type": "code",
      "source": [
        "x"
      ],
      "metadata": {
        "colab": {
          "base_uri": "https://localhost:8080/"
        },
        "id": "z44zyklfRFpD",
        "outputId": "74ad713f-69db-48f6-ff57-026a33ae51a9"
      },
      "execution_count": 55,
      "outputs": [
        {
          "output_type": "execute_result",
          "data": {
            "text/plain": [
              "<tf.Variable 'Variable:0' shape=(2, 2) dtype=float32, numpy=\n",
              "array([[0.9569689 , 0.41107738],\n",
              "       [0.94506276, 0.7183237 ]], dtype=float32)>"
            ]
          },
          "metadata": {},
          "execution_count": 55
        }
      ]
    },
    {
      "cell_type": "code",
      "source": [
        "grad_of_y_wrt_x"
      ],
      "metadata": {
        "colab": {
          "base_uri": "https://localhost:8080/"
        },
        "id": "Y3CVaDylQoPh",
        "outputId": "8ad9d8c9-ff4b-4b41-f56a-4e5f9bfb84a0"
      },
      "execution_count": 56,
      "outputs": [
        {
          "output_type": "execute_result",
          "data": {
            "text/plain": [
              "<tf.Tensor: shape=(2, 2), dtype=float32, numpy=\n",
              "array([[2., 2.],\n",
              "       [2., 2.]], dtype=float32)>"
            ]
          },
          "metadata": {},
          "execution_count": 56
        }
      ]
    },
    {
      "cell_type": "code",
      "execution_count": 57,
      "metadata": {
        "id": "cH5kINXaI0he"
      },
      "outputs": [],
      "source": [
        "W = tf.Variable(tf.random.uniform((2, 2)))\n",
        "b = tf.Variable(tf.zeros((2,)))\n",
        "x = tf.random.uniform((2, 2))\n",
        "with tf.GradientTape() as tape:\n",
        "    y = tf.matmul(x, W) + b\n",
        "grad_of_y_wrt_W_and_b = tape.gradient(y, [W, b])"
      ]
    },
    {
      "cell_type": "code",
      "source": [
        "W"
      ],
      "metadata": {
        "colab": {
          "base_uri": "https://localhost:8080/"
        },
        "id": "9ePfDj7KRN_N",
        "outputId": "9ecca5f1-405a-4341-a2a3-964b36bcc08c"
      },
      "execution_count": 58,
      "outputs": [
        {
          "output_type": "execute_result",
          "data": {
            "text/plain": [
              "<tf.Variable 'Variable:0' shape=(2, 2) dtype=float32, numpy=\n",
              "array([[0.5141969 , 0.7400174 ],\n",
              "       [0.02545142, 0.94190454]], dtype=float32)>"
            ]
          },
          "metadata": {},
          "execution_count": 58
        }
      ]
    },
    {
      "cell_type": "code",
      "source": [
        "b"
      ],
      "metadata": {
        "colab": {
          "base_uri": "https://localhost:8080/"
        },
        "id": "nW5eQszKROW8",
        "outputId": "c37e90af-55b7-470f-a892-2e0f0aa1b34d"
      },
      "execution_count": 59,
      "outputs": [
        {
          "output_type": "execute_result",
          "data": {
            "text/plain": [
              "<tf.Variable 'Variable:0' shape=(2,) dtype=float32, numpy=array([0., 0.], dtype=float32)>"
            ]
          },
          "metadata": {},
          "execution_count": 59
        }
      ]
    },
    {
      "cell_type": "code",
      "source": [
        "x"
      ],
      "metadata": {
        "colab": {
          "base_uri": "https://localhost:8080/"
        },
        "id": "6ZujJDBMROmf",
        "outputId": "915d3058-b3a4-4e03-d78c-1988dc703dd3"
      },
      "execution_count": 60,
      "outputs": [
        {
          "output_type": "execute_result",
          "data": {
            "text/plain": [
              "<tf.Tensor: shape=(2, 2), dtype=float32, numpy=\n",
              "array([[0.20510805, 0.2720821 ],\n",
              "       [0.44549358, 0.9475393 ]], dtype=float32)>"
            ]
          },
          "metadata": {},
          "execution_count": 60
        }
      ]
    },
    {
      "cell_type": "code",
      "source": [
        "grad_of_y_wrt_W_and_b"
      ],
      "metadata": {
        "colab": {
          "base_uri": "https://localhost:8080/"
        },
        "id": "-HyDCLF0QxdL",
        "outputId": "aba645c5-e256-42ec-a3d4-8d86b4693cd1"
      },
      "execution_count": 61,
      "outputs": [
        {
          "output_type": "execute_result",
          "data": {
            "text/plain": [
              "[<tf.Tensor: shape=(2, 2), dtype=float32, numpy=\n",
              " array([[0.6506016, 0.6506016],\n",
              "        [1.2196214, 1.2196214]], dtype=float32)>,\n",
              " <tf.Tensor: shape=(2,), dtype=float32, numpy=array([2., 2.], dtype=float32)>]"
            ]
          },
          "metadata": {},
          "execution_count": 61
        }
      ]
    },
    {
      "cell_type": "code",
      "source": [
        "x = tf.Variable(2.)\n",
        "y = tf.Variable(1.)\n",
        "with tf.GradientTape() as tape:\n",
        "    z = x * x * y + x * y + 3 * y\n",
        "grad_of_z_wrt_xy = tape.gradient(z, [x, y])"
      ],
      "metadata": {
        "id": "uAzrD3brRnj6"
      },
      "execution_count": 77,
      "outputs": []
    },
    {
      "cell_type": "code",
      "source": [
        "grad_of_z_wrt_xy"
      ],
      "metadata": {
        "colab": {
          "base_uri": "https://localhost:8080/"
        },
        "id": "Tf7ZA8cwSxD0",
        "outputId": "1ac9c7a8-0408-4f8c-cb8e-eee8372e43f7"
      },
      "execution_count": 78,
      "outputs": [
        {
          "output_type": "execute_result",
          "data": {
            "text/plain": [
              "[<tf.Tensor: shape=(), dtype=float32, numpy=5.0>,\n",
              " <tf.Tensor: shape=(), dtype=float32, numpy=9.0>]"
            ]
          },
          "metadata": {},
          "execution_count": 78
        }
      ]
    },
    {
      "cell_type": "code",
      "source": [
        "x = tf.constant(np.array([1.,4.,3.]).reshape(1,3), dtype=tf.float32)\n",
        "W = tf.Variable(tf.random.uniform((3, 2)), dtype=tf.float32)\n",
        "b = tf.Variable(tf.zeros((2,)), dtype=tf.float32)\n",
        "\n",
        "with tf.GradientTape() as tape:\n",
        "    z = tf.matmul(x, W) + b\n",
        "grad_of_z_wrt_W_and_b = tape.gradient(z, [W, b])"
      ],
      "metadata": {
        "id": "ASi8LiTvS1Uk"
      },
      "execution_count": 71,
      "outputs": []
    },
    {
      "cell_type": "code",
      "source": [
        "W"
      ],
      "metadata": {
        "colab": {
          "base_uri": "https://localhost:8080/"
        },
        "id": "QAiTcGjNXlsz",
        "outputId": "69fef1ca-b44a-44e9-ddf2-be9dbf59544b"
      },
      "execution_count": 89,
      "outputs": [
        {
          "output_type": "execute_result",
          "data": {
            "text/plain": [
              "<tf.Variable 'Variable:0' shape=(3, 2) dtype=float32, numpy=\n",
              "array([[0.548612  , 0.07097495],\n",
              "       [0.7577739 , 0.37923038],\n",
              "       [0.14547026, 0.43312883]], dtype=float32)>"
            ]
          },
          "metadata": {},
          "execution_count": 89
        }
      ]
    },
    {
      "cell_type": "code",
      "source": [
        "x"
      ],
      "metadata": {
        "colab": {
          "base_uri": "https://localhost:8080/"
        },
        "id": "PbNskH-GXnPq",
        "outputId": "56ef5456-d413-4cc1-f127-531c011e4f83"
      },
      "execution_count": 90,
      "outputs": [
        {
          "output_type": "execute_result",
          "data": {
            "text/plain": [
              "<tf.Variable 'Variable:0' shape=() dtype=float32, numpy=2.0>"
            ]
          },
          "metadata": {},
          "execution_count": 90
        }
      ]
    },
    {
      "cell_type": "code",
      "source": [
        "b"
      ],
      "metadata": {
        "colab": {
          "base_uri": "https://localhost:8080/"
        },
        "id": "xluHXrsfXmf9",
        "outputId": "2a4c1aed-5f0c-40e2-852e-030d4acef0ef"
      },
      "execution_count": 91,
      "outputs": [
        {
          "output_type": "execute_result",
          "data": {
            "text/plain": [
              "<tf.Variable 'Variable:0' shape=(2,) dtype=float32, numpy=array([0., 0.], dtype=float32)>"
            ]
          },
          "metadata": {},
          "execution_count": 91
        }
      ]
    },
    {
      "cell_type": "code",
      "source": [
        "grad_of_z_wrt_W_and_b"
      ],
      "metadata": {
        "colab": {
          "base_uri": "https://localhost:8080/"
        },
        "id": "UUD_1IGxUKC9",
        "outputId": "30870a82-47d9-4864-c54b-c3a7a1270051"
      },
      "execution_count": 72,
      "outputs": [
        {
          "output_type": "execute_result",
          "data": {
            "text/plain": [
              "[<tf.Tensor: shape=(3, 2), dtype=float32, numpy=\n",
              " array([[1., 1.],\n",
              "        [4., 4.],\n",
              "        [3., 3.]], dtype=float32)>,\n",
              " <tf.Tensor: shape=(2,), dtype=float32, numpy=array([1., 1.], dtype=float32)>]"
            ]
          },
          "metadata": {},
          "execution_count": 72
        }
      ]
    },
    {
      "cell_type": "code",
      "source": [],
      "metadata": {
        "id": "1MueewqkXDeD"
      },
      "execution_count": null,
      "outputs": []
    },
    {
      "cell_type": "markdown",
      "metadata": {
        "id": "ZRuV0YqLI0hf"
      },
      "source": [
        "## Looking back at our first example"
      ]
    },
    {
      "cell_type": "code",
      "execution_count": 69,
      "metadata": {
        "id": "ChmnwrWzI0hg"
      },
      "outputs": [],
      "source": [
        "(train_images, train_labels), (test_images, test_labels) = mnist.load_data()\n",
        "train_images = train_images.reshape((60000, 28 * 28))\n",
        "train_images = train_images.astype(\"float32\") / 255\n",
        "test_images = test_images.reshape((10000, 28 * 28))\n",
        "test_images = test_images.astype(\"float32\") / 255"
      ]
    },
    {
      "cell_type": "code",
      "execution_count": 74,
      "metadata": {
        "id": "aYO_1ZeGI0hg"
      },
      "outputs": [],
      "source": [
        "model = keras.Sequential([\n",
        "    layers.Dense(512, activation=\"relu\"),\n",
        "    layers.Dense(10, activation=\"softmax\")\n",
        "])"
      ]
    },
    {
      "cell_type": "code",
      "execution_count": 75,
      "metadata": {
        "id": "pTZKal_ZI0hh"
      },
      "outputs": [],
      "source": [
        "model.compile(optimizer=\"rmsprop\",\n",
        "              loss=\"sparse_categorical_crossentropy\",\n",
        "              metrics=[\"accuracy\"])"
      ]
    },
    {
      "cell_type": "code",
      "execution_count": 76,
      "metadata": {
        "id": "uutoeC4rI0hi",
        "colab": {
          "base_uri": "https://localhost:8080/"
        },
        "outputId": "b6f98f3b-3d60-4c4f-864e-b92783a368cf"
      },
      "outputs": [
        {
          "output_type": "stream",
          "name": "stdout",
          "text": [
            "Epoch 1/5\n",
            "469/469 [==============================] - 3s 3ms/step - loss: 0.2649 - accuracy: 0.9241\n",
            "Epoch 2/5\n",
            "469/469 [==============================] - 2s 4ms/step - loss: 0.1069 - accuracy: 0.9685\n",
            "Epoch 3/5\n",
            "469/469 [==============================] - 1s 3ms/step - loss: 0.0703 - accuracy: 0.9787\n",
            "Epoch 4/5\n",
            "469/469 [==============================] - 1s 3ms/step - loss: 0.0509 - accuracy: 0.9845\n",
            "Epoch 5/5\n",
            "469/469 [==============================] - 1s 3ms/step - loss: 0.0377 - accuracy: 0.9885\n"
          ]
        },
        {
          "output_type": "execute_result",
          "data": {
            "text/plain": [
              "<keras.src.callbacks.History at 0x7dde542b9150>"
            ]
          },
          "metadata": {},
          "execution_count": 76
        }
      ],
      "source": [
        "model.fit(train_images, train_labels, epochs=5, batch_size=128)"
      ]
    },
    {
      "cell_type": "markdown",
      "metadata": {
        "id": "bbd_UFscI0hj"
      },
      "source": [
        "### Reimplementing our first example from scratch in TensorFlow"
      ]
    },
    {
      "cell_type": "markdown",
      "metadata": {
        "id": "osMyH-aXI0hj"
      },
      "source": [
        "#### A simple Dense class"
      ]
    },
    {
      "cell_type": "code",
      "execution_count": 79,
      "metadata": {
        "id": "HeyAJ0UZI0hk"
      },
      "outputs": [],
      "source": [
        "import tensorflow as tf\n",
        "\n",
        "class NaiveDense:\n",
        "    def __init__(self, input_size, output_size, activation):\n",
        "        self.activation = activation\n",
        "\n",
        "        w_shape = (input_size, output_size)\n",
        "        w_initial_value = tf.random.uniform(w_shape, minval=0, maxval=1e-1)\n",
        "        self.W = tf.Variable(w_initial_value)\n",
        "\n",
        "        b_shape = (output_size,)\n",
        "        b_initial_value = tf.zeros(b_shape)\n",
        "        self.b = tf.Variable(b_initial_value)\n",
        "\n",
        "    def __call__(self, inputs):\n",
        "        return self.activation(tf.matmul(inputs, self.W) + self.b)\n",
        "\n",
        "    @property\n",
        "    def weights(self):\n",
        "        return [self.W, self.b]"
      ]
    },
    {
      "cell_type": "markdown",
      "metadata": {
        "id": "IffIwFmhI0hl"
      },
      "source": [
        "#### A simple Sequential class"
      ]
    },
    {
      "cell_type": "code",
      "execution_count": 80,
      "metadata": {
        "id": "y1cREuCbI0hm"
      },
      "outputs": [],
      "source": [
        "class NaiveSequential:\n",
        "    def __init__(self, layers):\n",
        "        self.layers = layers\n",
        "\n",
        "    def __call__(self, inputs):\n",
        "        x = inputs\n",
        "        for layer in self.layers:\n",
        "           x = layer(x)\n",
        "        return x\n",
        "\n",
        "    @property\n",
        "    def weights(self):\n",
        "       weights = []\n",
        "       for layer in self.layers:\n",
        "           weights += layer.weights\n",
        "       return weights"
      ]
    },
    {
      "cell_type": "code",
      "execution_count": 81,
      "metadata": {
        "id": "RPYZ6iOxI0hn"
      },
      "outputs": [],
      "source": [
        "model = NaiveSequential([\n",
        "    NaiveDense(input_size=28 * 28, output_size=512, activation=tf.nn.relu),\n",
        "    NaiveDense(input_size=512, output_size=10, activation=tf.nn.softmax)\n",
        "])\n",
        "assert len(model.weights) == 4"
      ]
    },
    {
      "cell_type": "markdown",
      "metadata": {
        "id": "J5-zb_-mI0ho"
      },
      "source": [
        "#### A batch generator"
      ]
    },
    {
      "cell_type": "code",
      "execution_count": 82,
      "metadata": {
        "id": "PSZ_QbY8I0hp"
      },
      "outputs": [],
      "source": [
        "import math\n",
        "\n",
        "class BatchGenerator:\n",
        "    def __init__(self, images, labels, batch_size=128):\n",
        "        assert len(images) == len(labels)\n",
        "        self.index = 0\n",
        "        self.images = images\n",
        "        self.labels = labels\n",
        "        self.batch_size = batch_size\n",
        "        self.num_batches = math.ceil(len(images) / batch_size)\n",
        "\n",
        "    def next(self):\n",
        "        images = self.images[self.index : self.index + self.batch_size]\n",
        "        labels = self.labels[self.index : self.index + self.batch_size]\n",
        "        self.index += self.batch_size\n",
        "        return images, labels"
      ]
    },
    {
      "cell_type": "markdown",
      "metadata": {
        "id": "5TYDVNiSI0hq"
      },
      "source": [
        "### Running one training step"
      ]
    },
    {
      "cell_type": "code",
      "execution_count": 83,
      "metadata": {
        "id": "_HRGYu7EI0hr"
      },
      "outputs": [],
      "source": [
        "def one_training_step(model, images_batch, labels_batch):\n",
        "    with tf.GradientTape() as tape:\n",
        "        predictions = model(images_batch)\n",
        "        per_sample_losses = tf.keras.losses.sparse_categorical_crossentropy(\n",
        "            labels_batch, predictions)\n",
        "        average_loss = tf.reduce_mean(per_sample_losses)\n",
        "    gradients = tape.gradient(average_loss, model.weights)\n",
        "    update_weights(gradients, model.weights)\n",
        "    return average_loss"
      ]
    },
    {
      "cell_type": "code",
      "execution_count": 84,
      "metadata": {
        "id": "FHa2uBFTI0hv"
      },
      "outputs": [],
      "source": [
        "learning_rate = 1e-3\n",
        "\n",
        "def update_weights(gradients, weights):\n",
        "    for g, w in zip(gradients, weights):\n",
        "        w.assign_sub(g * learning_rate)"
      ]
    },
    {
      "cell_type": "code",
      "execution_count": 85,
      "metadata": {
        "id": "Fupz8IluI0hv"
      },
      "outputs": [],
      "source": [
        "from tensorflow.keras import optimizers\n",
        "\n",
        "optimizer = optimizers.SGD(learning_rate=1e-3)\n",
        "\n",
        "def update_weights(gradients, weights):\n",
        "    optimizer.apply_gradients(zip(gradients, weights))"
      ]
    },
    {
      "cell_type": "markdown",
      "metadata": {
        "id": "wL64kqoFI0hw"
      },
      "source": [
        "### The full training loop"
      ]
    },
    {
      "cell_type": "code",
      "execution_count": 86,
      "metadata": {
        "id": "3xcWp0biI0hw"
      },
      "outputs": [],
      "source": [
        "def fit(model, images, labels, epochs, batch_size=128):\n",
        "    for epoch_counter in range(epochs):\n",
        "        print(f\"Epoch {epoch_counter}\")\n",
        "        batch_generator = BatchGenerator(images, labels)\n",
        "        for batch_counter in range(batch_generator.num_batches):\n",
        "            images_batch, labels_batch = batch_generator.next()\n",
        "            loss = one_training_step(model, images_batch, labels_batch)\n",
        "            if batch_counter % 100 == 0:\n",
        "                print(f\"loss at batch {batch_counter}: {loss:.2f}\")"
      ]
    },
    {
      "cell_type": "code",
      "execution_count": 87,
      "metadata": {
        "id": "jYKalc-AI0hx",
        "colab": {
          "base_uri": "https://localhost:8080/"
        },
        "outputId": "ca4f5cda-4f4a-4f09-e912-8bf1d2b0e7cb"
      },
      "outputs": [
        {
          "output_type": "stream",
          "name": "stdout",
          "text": [
            "Epoch 0\n",
            "loss at batch 0: 3.52\n",
            "loss at batch 100: 2.20\n",
            "loss at batch 200: 2.17\n",
            "loss at batch 300: 2.09\n",
            "loss at batch 400: 2.19\n",
            "Epoch 1\n",
            "loss at batch 0: 1.88\n",
            "loss at batch 100: 1.85\n",
            "loss at batch 200: 1.81\n",
            "loss at batch 300: 1.72\n",
            "loss at batch 400: 1.80\n",
            "Epoch 2\n",
            "loss at batch 0: 1.57\n",
            "loss at batch 100: 1.56\n",
            "loss at batch 200: 1.50\n",
            "loss at batch 300: 1.45\n",
            "loss at batch 400: 1.49\n",
            "Epoch 3\n",
            "loss at batch 0: 1.31\n",
            "loss at batch 100: 1.33\n",
            "loss at batch 200: 1.24\n",
            "loss at batch 300: 1.23\n",
            "loss at batch 400: 1.26\n",
            "Epoch 4\n",
            "loss at batch 0: 1.11\n",
            "loss at batch 100: 1.15\n",
            "loss at batch 200: 1.04\n",
            "loss at batch 300: 1.07\n",
            "loss at batch 400: 1.10\n",
            "Epoch 5\n",
            "loss at batch 0: 0.97\n",
            "loss at batch 100: 1.01\n",
            "loss at batch 200: 0.90\n",
            "loss at batch 300: 0.95\n",
            "loss at batch 400: 0.98\n",
            "Epoch 6\n",
            "loss at batch 0: 0.86\n",
            "loss at batch 100: 0.90\n",
            "loss at batch 200: 0.80\n",
            "loss at batch 300: 0.86\n",
            "loss at batch 400: 0.89\n",
            "Epoch 7\n",
            "loss at batch 0: 0.78\n",
            "loss at batch 100: 0.82\n",
            "loss at batch 200: 0.72\n",
            "loss at batch 300: 0.78\n",
            "loss at batch 400: 0.82\n",
            "Epoch 8\n",
            "loss at batch 0: 0.71\n",
            "loss at batch 100: 0.75\n",
            "loss at batch 200: 0.66\n",
            "loss at batch 300: 0.73\n",
            "loss at batch 400: 0.77\n",
            "Epoch 9\n",
            "loss at batch 0: 0.66\n",
            "loss at batch 100: 0.70\n",
            "loss at batch 200: 0.61\n",
            "loss at batch 300: 0.68\n",
            "loss at batch 400: 0.73\n"
          ]
        }
      ],
      "source": [
        "from tensorflow.keras.datasets import mnist\n",
        "(train_images, train_labels), (test_images, test_labels) = mnist.load_data()\n",
        "\n",
        "train_images = train_images.reshape((60000, 28 * 28))\n",
        "train_images = train_images.astype(\"float32\") / 255\n",
        "test_images = test_images.reshape((10000, 28 * 28))\n",
        "test_images = test_images.astype(\"float32\") / 255\n",
        "\n",
        "fit(model, train_images, train_labels, epochs=10, batch_size=128)"
      ]
    },
    {
      "cell_type": "markdown",
      "metadata": {
        "id": "pK7KiQK1I0hx"
      },
      "source": [
        "### Evaluating the model"
      ]
    },
    {
      "cell_type": "code",
      "source": [
        "model.weights"
      ],
      "metadata": {
        "colab": {
          "base_uri": "https://localhost:8080/"
        },
        "id": "tfUesvqkZPEz",
        "outputId": "bfc3cf15-e162-4837-d2eb-b0cb71671eaf"
      },
      "execution_count": 92,
      "outputs": [
        {
          "output_type": "execute_result",
          "data": {
            "text/plain": [
              "[<tf.Variable 'Variable:0' shape=(784, 512) dtype=float32, numpy=\n",
              " array([[0.07864714, 0.03484159, 0.09506575, ..., 0.09952944, 0.07237871,\n",
              "         0.00384505],\n",
              "        [0.00768822, 0.00599482, 0.08059927, ..., 0.00331527, 0.00858729,\n",
              "         0.07468941],\n",
              "        [0.00881873, 0.05860001, 0.05719827, ..., 0.03366283, 0.03860359,\n",
              "         0.00185711],\n",
              "        ...,\n",
              "        [0.03444393, 0.01451908, 0.07246784, ..., 0.03542503, 0.07106637,\n",
              "         0.05002553],\n",
              "        [0.06649014, 0.09289093, 0.08591646, ..., 0.07284045, 0.04208571,\n",
              "         0.06512765],\n",
              "        [0.09155259, 0.01088053, 0.09200063, ..., 0.09400503, 0.0901578 ,\n",
              "         0.01700965]], dtype=float32)>,\n",
              " <tf.Variable 'Variable:0' shape=(512,) dtype=float32, numpy=\n",
              " array([ 3.82751413e-03,  3.21786548e-03,  8.09865363e-04, -5.87682752e-03,\n",
              "         2.38325121e-03, -5.11128828e-03, -3.50361341e-03, -1.09110288e-02,\n",
              "        -6.84074312e-03, -5.09870332e-03, -5.05737448e-03,  6.21566433e-04,\n",
              "        -4.79530729e-03, -8.57797451e-03, -2.48916214e-03, -5.83505305e-03,\n",
              "         6.24017499e-04, -1.46921247e-03, -2.45086523e-03,  7.24505121e-03,\n",
              "        -1.57833926e-03, -7.22721079e-03, -5.52534871e-03, -1.89137412e-03,\n",
              "         2.20639887e-03, -5.13367774e-03, -2.36062286e-03,  3.14830989e-03,\n",
              "        -3.97086190e-03,  3.00885085e-03,  6.27962267e-03,  1.23303127e-03,\n",
              "         4.83138766e-03,  6.72945753e-03, -9.83950123e-03, -6.92774681e-03,\n",
              "        -4.15223278e-03,  1.42651645e-03, -8.73895187e-04,  4.28725546e-03,\n",
              "         1.06797193e-03,  2.85965716e-03, -3.29780090e-03,  3.87634849e-03,\n",
              "         1.21279489e-02,  1.49069971e-03,  4.03661607e-03, -7.93308299e-03,\n",
              "        -6.08501770e-03,  2.02381099e-03, -6.61091181e-03, -4.70869057e-03,\n",
              "         1.67498365e-03, -3.16269929e-03, -3.28621618e-03, -4.32822015e-03,\n",
              "         3.75989219e-03,  4.14479617e-03,  3.58617399e-03,  2.79869046e-03,\n",
              "        -6.15116162e-03, -2.62784143e-03,  2.81877303e-03,  1.11258635e-02,\n",
              "        -4.22991673e-03, -1.13425497e-02,  1.46612315e-03,  7.15529034e-03,\n",
              "        -8.77511874e-03,  2.74720625e-03, -1.93374301e-03, -4.23204573e-03,\n",
              "         1.24732440e-03,  2.47872481e-03,  1.70548877e-03,  4.38416842e-03,\n",
              "        -6.25181012e-04,  1.50769670e-03, -1.84196862e-03,  4.99492418e-03,\n",
              "         9.62887052e-03, -1.45507779e-03, -1.01919996e-03, -3.07098730e-03,\n",
              "         6.58131205e-03,  9.58755985e-03, -5.46392566e-03, -5.86763432e-04,\n",
              "        -2.48310342e-03,  7.18828232e-04,  6.40794681e-03, -4.23422363e-03,\n",
              "        -3.87350563e-03, -4.75405995e-03,  4.35894122e-03,  6.64596388e-04,\n",
              "         5.77624049e-03,  5.92813781e-03, -3.36244004e-03,  1.64287514e-03,\n",
              "        -1.72669615e-03,  9.84411687e-04,  6.06594002e-03, -3.25445412e-03,\n",
              "         5.87283459e-04, -2.26184400e-03, -8.42319615e-03,  1.29673874e-03,\n",
              "        -8.18489213e-03,  1.87532289e-03, -9.13084671e-03,  3.46344966e-03,\n",
              "        -2.03352422e-03, -1.41239131e-03,  9.07121599e-03,  3.65263259e-05,\n",
              "         3.07104434e-03,  2.09121848e-03,  1.65260222e-03, -3.37050925e-03,\n",
              "        -7.26130744e-03, -1.55041541e-03,  2.76424969e-03, -3.10903229e-03,\n",
              "         8.27001315e-03,  1.04960543e-03,  3.50921275e-03, -4.40830691e-03,\n",
              "         1.96937588e-03, -4.55614692e-03,  3.66877182e-03,  1.72462151e-03,\n",
              "        -3.69403954e-03, -7.66538829e-03,  1.04758730e-02,  9.61071753e-04,\n",
              "        -2.36305365e-04,  2.44630664e-03, -2.28843698e-03,  4.63256799e-03,\n",
              "        -3.67042329e-03, -1.11927250e-02, -1.79385766e-03, -2.90294411e-03,\n",
              "         1.83489826e-03, -3.96370515e-03, -6.33287989e-03, -2.71892617e-03,\n",
              "        -2.28293845e-03, -2.67977291e-03, -2.23143003e-03,  1.71214796e-03,\n",
              "        -5.89458365e-03, -1.05631053e-02, -9.61353350e-03, -3.77475657e-03,\n",
              "         2.55038147e-03,  1.60403587e-02,  5.03645511e-03,  3.89272301e-03,\n",
              "        -3.30576673e-03,  1.33642089e-03,  5.41020418e-03,  4.98116016e-03,\n",
              "        -5.26559399e-03, -6.42632227e-03,  1.85785769e-03, -5.79582853e-03,\n",
              "         2.76908861e-03,  3.69815296e-03,  7.28941103e-03,  1.64773816e-03,\n",
              "        -5.43887215e-03,  8.60209297e-03, -1.18794432e-03, -2.03936314e-03,\n",
              "         4.32035048e-03,  5.17391367e-03, -5.89947542e-03,  9.42229014e-03,\n",
              "         1.17871969e-03, -5.02341986e-03, -7.09733402e-04,  1.28925312e-03,\n",
              "         6.60996512e-03, -8.92350683e-04,  5.53395366e-03,  3.02800654e-05,\n",
              "         3.06761067e-04, -1.26518228e-03,  1.40612200e-03, -3.42580443e-03,\n",
              "         4.97525372e-03,  2.24263058e-03,  3.81669565e-03,  2.05000699e-03,\n",
              "         6.37291931e-03, -5.25869988e-03,  4.66944883e-03,  2.23275297e-03,\n",
              "         1.77969330e-03, -1.60040986e-03, -6.35172846e-03,  5.45143662e-03,\n",
              "        -3.47621762e-03, -8.33993312e-03, -4.76042088e-03,  3.86003661e-03,\n",
              "        -8.11052229e-03,  3.75910440e-06,  7.27450242e-03,  3.63382162e-03,\n",
              "         2.54202378e-03,  1.02784601e-03, -1.92376447e-05,  1.45318860e-03,\n",
              "         4.97060781e-03,  3.22070105e-06,  1.23322094e-02,  2.09683902e-03,\n",
              "        -2.74671754e-03, -3.61534255e-03,  1.35102856e-03, -1.97932846e-03,\n",
              "         1.36657618e-03,  5.10165328e-03, -5.81366802e-03,  9.59321856e-03,\n",
              "        -2.39040027e-03, -6.22206833e-03,  1.59269955e-03,  3.24802240e-03,\n",
              "         7.72971660e-03, -5.61502995e-03, -3.59037332e-03, -4.46017273e-03,\n",
              "        -6.20556436e-03, -2.78202188e-03,  2.35886872e-03, -9.40702739e-04,\n",
              "        -4.60291468e-03, -2.14704327e-04, -2.78262096e-03,  2.97181448e-03,\n",
              "         1.01381028e-02,  8.64505023e-03, -2.96758441e-03, -8.89792852e-03,\n",
              "        -2.29946803e-03,  1.30941416e-03, -4.92089149e-03,  5.20794792e-03,\n",
              "        -6.35055546e-03, -3.50086670e-03, -3.24337836e-03, -2.84119812e-03,\n",
              "        -2.53652176e-03, -8.92712828e-03,  2.91299680e-03, -5.60469506e-03,\n",
              "         6.31089834e-03, -1.97110302e-03, -1.03626922e-02,  6.73449272e-03,\n",
              "         8.51895602e-04,  2.96246901e-04, -4.69986070e-03, -2.01088074e-03,\n",
              "        -7.13140471e-03,  2.63825641e-03, -6.57395367e-03, -5.80377690e-03,\n",
              "         3.54305771e-03, -1.07776662e-02, -1.09097513e-03, -5.68199018e-03,\n",
              "        -2.59805424e-03, -8.70882577e-05,  2.25453591e-03, -3.33915203e-04,\n",
              "         6.06536865e-03, -4.25030431e-03,  4.27347701e-03,  2.78304401e-03,\n",
              "        -2.61487858e-03,  3.79859842e-03, -5.50562842e-03,  7.26475706e-03,\n",
              "         9.68032703e-03, -5.29023074e-03,  8.74009170e-03, -5.43331634e-03,\n",
              "         6.66021660e-04,  3.46105699e-05, -1.04107335e-02, -3.56015656e-03,\n",
              "        -6.31030789e-03, -4.64473432e-03, -5.68447961e-03, -3.72886634e-03,\n",
              "        -9.75811447e-04, -6.38097152e-03, -5.39442105e-03,  5.67012839e-03,\n",
              "         1.84775179e-03, -1.76581542e-03, -2.76833470e-03,  6.13338826e-03,\n",
              "         6.63219905e-03, -2.17071874e-03,  1.27690770e-02, -1.91609084e-03,\n",
              "        -4.70255036e-04, -1.51784404e-03, -2.07447144e-03,  1.10321483e-02,\n",
              "         1.93940930e-03,  3.23367189e-03, -8.84422287e-03, -9.97632858e-04,\n",
              "        -2.21541477e-03, -9.25728644e-04, -2.82917405e-03,  2.81706592e-03,\n",
              "         7.29119126e-03, -4.84356890e-03, -1.99726853e-03,  2.42289447e-04,\n",
              "         2.27749604e-03, -2.67425925e-03,  4.63843578e-04, -1.97098567e-03,\n",
              "         4.20742715e-03,  5.03552426e-03, -8.33318476e-03, -1.18182844e-03,\n",
              "         3.15651949e-03, -1.26953702e-03, -6.29111077e-04,  2.42891721e-03,\n",
              "        -2.38857116e-03, -1.86209497e-03, -2.63914722e-03,  2.88581220e-03,\n",
              "         2.74571497e-03,  3.50509631e-03, -1.13873566e-02, -5.57956332e-03,\n",
              "        -4.45274031e-03,  1.59190572e-03,  1.47900032e-03,  3.32437246e-03,\n",
              "         1.88927294e-03,  5.58167556e-03,  1.06538821e-03, -2.38608976e-04,\n",
              "         7.29964595e-05,  4.60297801e-03, -7.51101295e-04,  5.31338062e-03,\n",
              "         3.60572222e-03,  7.17729703e-03, -1.42177363e-04,  3.43867531e-03,\n",
              "        -3.06370622e-03,  2.04421952e-03, -7.07246223e-03, -5.63491508e-03,\n",
              "         2.06995668e-04, -2.89103412e-03,  1.33724194e-02, -9.41451406e-04,\n",
              "        -4.58135176e-03,  1.19387440e-03, -3.52289644e-03, -2.68874428e-04,\n",
              "        -1.27106148e-03,  7.59033347e-03, -6.37671864e-03,  2.69895099e-04,\n",
              "         2.67196260e-03, -3.98080051e-03,  3.14130192e-03,  1.41541532e-03,\n",
              "        -1.38827297e-03, -2.81061558e-03,  3.45349917e-03, -2.62581720e-03,\n",
              "        -4.56767064e-03, -3.72225605e-03,  2.18525180e-03, -7.97926681e-04,\n",
              "         3.00466269e-03, -7.53733004e-03,  4.20967164e-03,  8.29256326e-03,\n",
              "         1.72970770e-03, -6.29892945e-03, -8.12648039e-04, -2.01873248e-03,\n",
              "         1.99276442e-03, -2.38471362e-03,  7.10977102e-03, -9.25512053e-03,\n",
              "        -5.98294195e-03, -2.39161914e-03,  2.12025153e-03,  2.01985915e-03,\n",
              "        -2.65262439e-03,  4.19347314e-03, -2.05519889e-03, -2.30093789e-03,\n",
              "         5.13817091e-03,  5.25336154e-03, -1.45587648e-04,  5.54794027e-03,\n",
              "        -7.71618169e-03,  8.60592071e-03, -6.93627866e-04,  1.57643997e-04,\n",
              "         4.41634824e-04, -8.87121446e-03, -2.15458684e-03,  3.51403025e-03,\n",
              "        -1.29193366e-02,  8.52203986e-04, -5.90684032e-03, -7.43900286e-03,\n",
              "        -5.93397534e-03,  1.90808816e-04,  2.24449998e-03, -9.30712000e-03,\n",
              "         1.93314033e-03, -7.71975901e-05, -6.14323886e-03,  2.57690996e-03,\n",
              "         3.49161541e-03,  1.48560863e-03, -3.58269224e-03, -2.12967070e-03,\n",
              "         2.79394491e-03, -7.96263688e-04,  2.60575046e-03,  2.30618520e-03,\n",
              "         4.82009584e-03,  3.70821962e-03, -3.30124330e-03,  1.22629106e-04,\n",
              "        -1.82760332e-03,  4.27357480e-03,  4.94349468e-03, -1.29672028e-02,\n",
              "        -2.45424011e-03, -2.69648037e-04,  4.81182756e-03, -1.20559074e-04,\n",
              "         1.91529712e-03,  7.77727051e-04, -4.08416707e-03,  5.79618383e-03,\n",
              "         1.61426992e-03,  1.41867972e-03,  1.93530612e-03,  3.39132990e-03,\n",
              "        -4.72829491e-03,  5.01500070e-03,  4.71775245e-04,  1.34824414e-03,\n",
              "         9.89404693e-03,  2.65369844e-03,  2.68012658e-03, -5.69194742e-03,\n",
              "         4.00029123e-03,  1.36487908e-03,  1.96565012e-03,  1.04585877e-02,\n",
              "        -1.42632009e-04,  6.23770873e-04, -9.71291028e-03, -6.86243316e-03,\n",
              "        -8.61282460e-03,  3.51901120e-03,  5.01841353e-03,  9.90671979e-05,\n",
              "        -4.71044146e-03,  5.88045409e-03,  4.50475886e-03,  3.71186738e-03,\n",
              "         1.14404066e-02,  3.91398877e-04, -6.74134644e-05,  8.17967986e-04,\n",
              "         3.88253434e-03, -3.95649951e-03,  2.37805187e-03, -2.51782592e-03,\n",
              "        -1.86266913e-03, -5.17668668e-04, -2.32561593e-04, -6.04673522e-03,\n",
              "        -8.93411227e-03,  8.62604007e-03,  1.17400931e-02, -3.58625827e-03,\n",
              "         1.95716112e-03, -1.21524499e-04, -7.17396382e-03, -5.50906081e-03,\n",
              "        -5.38808201e-03, -2.87173479e-03,  9.28126683e-04, -1.31347205e-03],\n",
              "       dtype=float32)>,\n",
              " <tf.Variable 'Variable:0' shape=(512, 10) dtype=float32, numpy=\n",
              " array([[ 0.0017819 ,  0.11701917,  0.07711722, ..., -0.01581656,\n",
              "          0.07690366,  0.05019766],\n",
              "        [ 0.05047608,  0.01344889, -0.03348975, ...,  0.1665368 ,\n",
              "          0.06515434,  0.10154426],\n",
              "        [ 0.05492497,  0.05384319,  0.13303496, ...,  0.06621519,\n",
              "         -0.00566786,  0.06867933],\n",
              "        ...,\n",
              "        [ 0.08598471,  0.04125521,  0.00071092, ..., -0.03328953,\n",
              "          0.0810701 ,  0.09829959],\n",
              "        [-0.05336694,  0.0365068 ,  0.09390036, ...,  0.02561117,\n",
              "         -0.00600344,  0.11181267],\n",
              "        [ 0.07903942, -0.02857773, -0.01408583, ...,  0.13422653,\n",
              "          0.01937843,  0.0531129 ]], dtype=float32)>,\n",
              " <tf.Variable 'Variable:0' shape=(10,) dtype=float32, numpy=\n",
              " array([-0.04395202,  0.09964355, -0.03379222, -0.02423925,  0.02121986,\n",
              "         0.01638693, -0.01038709,  0.03166934, -0.06123934,  0.00469024],\n",
              "       dtype=float32)>]"
            ]
          },
          "metadata": {},
          "execution_count": 92
        }
      ]
    },
    {
      "cell_type": "code",
      "execution_count": 88,
      "metadata": {
        "id": "vBBCpYotI0hx",
        "colab": {
          "base_uri": "https://localhost:8080/"
        },
        "outputId": "444c01bf-93a3-42ad-caff-a5c013c72f5a"
      },
      "outputs": [
        {
          "output_type": "stream",
          "name": "stdout",
          "text": [
            "accuracy: 0.82\n"
          ]
        }
      ],
      "source": [
        "predictions = model(test_images)\n",
        "predictions = predictions.numpy()\n",
        "predicted_labels = np.argmax(predictions, axis=1)\n",
        "matches = predicted_labels == test_labels\n",
        "print(f\"accuracy: {matches.mean():.2f}\")"
      ]
    },
    {
      "cell_type": "code",
      "source": [
        "NaiveDense(input_size=28 * 28, output_size=512, activation=tf.nn.relu).weigths"
      ],
      "metadata": {
        "colab": {
          "base_uri": "https://localhost:8080/",
          "height": 139
        },
        "id": "tno4lqV4ZcKT",
        "outputId": "cf2faa66-1a8a-4275-e8ba-1942a9413114"
      },
      "execution_count": 94,
      "outputs": [
        {
          "output_type": "error",
          "ename": "AttributeError",
          "evalue": "'NaiveDense' object has no attribute 'weigths'",
          "traceback": [
            "\u001b[0;31m---------------------------------------------------------------------------\u001b[0m",
            "\u001b[0;31mAttributeError\u001b[0m                            Traceback (most recent call last)",
            "\u001b[0;32m<ipython-input-94-028f44a0c2f4>\u001b[0m in \u001b[0;36m<cell line: 1>\u001b[0;34m()\u001b[0m\n\u001b[0;32m----> 1\u001b[0;31m \u001b[0mNaiveDense\u001b[0m\u001b[0;34m(\u001b[0m\u001b[0minput_size\u001b[0m\u001b[0;34m=\u001b[0m\u001b[0;36m28\u001b[0m \u001b[0;34m*\u001b[0m \u001b[0;36m28\u001b[0m\u001b[0;34m,\u001b[0m \u001b[0moutput_size\u001b[0m\u001b[0;34m=\u001b[0m\u001b[0;36m512\u001b[0m\u001b[0;34m,\u001b[0m \u001b[0mactivation\u001b[0m\u001b[0;34m=\u001b[0m\u001b[0mtf\u001b[0m\u001b[0;34m.\u001b[0m\u001b[0mnn\u001b[0m\u001b[0;34m.\u001b[0m\u001b[0mrelu\u001b[0m\u001b[0;34m)\u001b[0m\u001b[0;34m.\u001b[0m\u001b[0mweigths\u001b[0m\u001b[0;34m\u001b[0m\u001b[0;34m\u001b[0m\u001b[0m\n\u001b[0m",
            "\u001b[0;31mAttributeError\u001b[0m: 'NaiveDense' object has no attribute 'weigths'"
          ]
        }
      ]
    },
    {
      "cell_type": "markdown",
      "metadata": {
        "id": "rUJGY5KkI0hy"
      },
      "source": [
        "## Summary"
      ]
    }
  ],
  "metadata": {
    "colab": {
      "provenance": [],
      "toc_visible": true,
      "gpuType": "T4",
      "include_colab_link": true
    },
    "kernelspec": {
      "display_name": "Python 3",
      "name": "python3"
    },
    "language_info": {
      "codemirror_mode": {
        "name": "ipython",
        "version": 3
      },
      "file_extension": ".py",
      "mimetype": "text/x-python",
      "name": "python",
      "nbconvert_exporter": "python",
      "pygments_lexer": "ipython3",
      "version": "3.7.0"
    },
    "accelerator": "GPU"
  },
  "nbformat": 4,
  "nbformat_minor": 0
}